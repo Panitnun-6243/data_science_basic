{
 "cells": [
  {
   "cell_type": "markdown",
   "id": "ca7dd946-cb9c-4b95-9045-c72c40c1085d",
   "metadata": {
    "tags": []
   },
   "source": [
    "# Basic Python for data science"
   ]
  },
  {
   "cell_type": "markdown",
   "id": "94143f8f-3f7e-43ba-b998-f0cfb9b6fbb7",
   "metadata": {},
   "source": [
    "<div class=\"alert alert-block alert-info\">\n",
    "<b>Tip:</b> พวก basic syntax ผมไม่ได้เอามานะครับ เอาเฉพาะสิ่งที่ผมไม่รู้ พวก tuple หรือ numpy\n",
    "</div>"
   ]
  },
  {
   "cell_type": "markdown",
   "id": "26c95af5-44db-4205-9738-0f0a5b434f26",
   "metadata": {},
   "source": [
    "### Print"
   ]
  },
  {
   "cell_type": "code",
   "execution_count": 11,
   "id": "1ef92fab-b87f-4be8-b47f-d93a6d6e2c6c",
   "metadata": {},
   "outputs": [
    {
     "name": "stdout",
     "output_type": "stream",
     "text": [
      "|name: Tanny |age: 20 |single: True\n"
     ]
    }
   ],
   "source": [
    "#คล้าย js ใช้ , คั่นได้\n",
    "name = \"Tanny\"\n",
    "age = 20\n",
    "is_single = True\n",
    "print(\"|name:\", name,\"|age:\", age, '|single:', is_single)"
   ]
  },
  {
   "cell_type": "markdown",
   "id": "d90faad5-4d14-49de-94bf-9c0d38c451f3",
   "metadata": {},
   "source": [
    "#อีกเเบบ ใช้ f เเล้วใช้ bracket เเทนตัวเเปร\n",
    "name = \"Tanny\"\n",
    "age = 20\n",
    "status = \"single\"\n",
    "print(f\"My name is {name}. I'm {age} years old. I'm still {status}.\")"
   ]
  },
  {
   "cell_type": "code",
   "execution_count": 57,
   "id": "ea2f8a1f-4138-44ba-9e47-8c5d93e60068",
   "metadata": {},
   "outputs": [
    {
     "name": "stdout",
     "output_type": "stream",
     "text": [
      "a = 2.57, b = 3.79\n",
      "a = 2.5678, b = 3.789\n"
     ]
    }
   ],
   "source": [
    "#ทศนิยม 2 ตำเเหน่ง ใช้ :.2f ร่วมกับ format()\n",
    "a = 2.5678\n",
    "b = 3.789\n",
    "print(\"a = {:.2f}, b = {:.2f}\".format(a, b))\n",
    "print(\"a = {}, b = {}\".format(a,b))"
   ]
  },
  {
   "cell_type": "code",
   "execution_count": 25,
   "id": "37716da8-9adc-495a-8b25-3a655c6735a4",
   "metadata": {},
   "outputs": [
    {
     "name": "stdout",
     "output_type": "stream",
     "text": [
      "a = 2, b = 3.79, c = Hello\n"
     ]
    }
   ],
   "source": [
    "#ใช้ % เเทน format() เเล้วนำมาทำงานร่วมกับ %s (string) %d (integer) %.2f (float 2 decimal place)\n",
    "a = 2.5678\n",
    "b = 3.789\n",
    "c = \"Hello\"\n",
    "print(\"a = %d, b = %.2f, c = %s\" % (a,b,c))"
   ]
  },
  {
   "cell_type": "markdown",
   "id": "3fd23ea8-8318-422c-9ab2-874394c393be",
   "metadata": {},
   "source": [
    "### Lambda"
   ]
  },
  {
   "cell_type": "code",
   "execution_count": 28,
   "id": "cd0d0441-b808-4924-8715-e09fbb8dcc8b",
   "metadata": {},
   "outputs": [
    {
     "name": "stdout",
     "output_type": "stream",
     "text": [
      "The area is 100\n",
      "The area is 20\n"
     ]
    }
   ],
   "source": [
    "#เป็นฟังชั่นขนาดย่อที่จะคืนค่ากลับมาให้ตัวเเปรโดยไม่ต้อง return\n",
    "#syntax -> variable = lambda argument: expression\n",
    "rectangle_area = lambda width, height: width * height\n",
    "print(\"The area is\",rectangle_area(20, 5))\n",
    "print(\"The area is\",rectangle_area(5, 4))"
   ]
  },
  {
   "cell_type": "markdown",
   "id": "f5cba970-40b1-40cc-93a1-e8e9ccf0759e",
   "metadata": {},
   "source": [
    "### Tuple"
   ]
  },
  {
   "cell_type": "code",
   "execution_count": 32,
   "id": "fc842d33-e659-422e-81b2-b6f211cbabfc",
   "metadata": {},
   "outputs": [
    {
     "name": "stdout",
     "output_type": "stream",
     "text": [
      "<class 'tuple'>\n",
      "(1, 2, 3, 4, 5, 6, 7)\n",
      "1\n",
      "2\n"
     ]
    }
   ],
   "source": [
    "#เหมือน list เเต่เเก้ไขค่าไม่ได้\n",
    "set_num = 1,2,3,4,5,6,7\n",
    "print(type(set_num))\n",
    "print(set_num)\n",
    "for num in set_num[:2]:\n",
    "    print(num)"
   ]
  },
  {
   "cell_type": "markdown",
   "id": "0293861b-3964-4006-97a9-0addfda7fd3f",
   "metadata": {},
   "source": [
    "### Dictionary"
   ]
  },
  {
   "cell_type": "code",
   "execution_count": 39,
   "id": "5a3c50ac-e938-462a-b69e-8991d5398556",
   "metadata": {},
   "outputs": [
    {
     "name": "stdout",
     "output_type": "stream",
     "text": [
      "<class 'dict'>\n",
      "{'name': 'Tanny', 'age': 20, 'salary': 200}\n",
      "Tanny\n"
     ]
    }
   ],
   "source": [
    "#Key-value pairs ถ้าเทียบกับ js ก็คือ ข้อมูลเเบบ object\n",
    "employee1_info = {\"name\": \"Tanny\", \"age\": 20, \"salary\": 200}\n",
    "print(type(employee1_info))\n",
    "print(employee1_info)\n",
    "print(employee1_info[\"name\"])#print valueโดยใช้ key"
   ]
  },
  {
   "cell_type": "markdown",
   "id": "ae464439-015c-4251-95dd-ea1c8cbf8f68",
   "metadata": {},
   "source": [
    "### Dictionary with List and Tuple"
   ]
  },
  {
   "cell_type": "code",
   "execution_count": 56,
   "id": "20c68d72-7856-4b6c-9ae6-fb236673ad49",
   "metadata": {},
   "outputs": [
    {
     "name": "stdout",
     "output_type": "stream",
     "text": [
      "{'name': 'arny', 'age': 23, 'salary': 100}\n",
      "arny\n",
      "{'name': 'Tanny', 'age': 20, 'salary': 200}\n",
      "200\n",
      "เเบบดั้งเดิม\n",
      "Tanny 200\n",
      "earth 300\n",
      "arny 100\n",
      "fam 200\n",
      "เเบบจองพื้นที่\n",
      "Tanny  200\n",
      "earth  300\n",
      "arny   100\n",
      "fam    200\n"
     ]
    }
   ],
   "source": [
    "list_of_employees = [{\"name\": \"Tanny\", \"age\": 20, \"salary\": 200},\n",
    "                    {\"name\": \"earth\", \"age\": 50, \"salary\": 300},\n",
    "                    {\"name\": \"arny\", \"age\": 23, \"salary\": 100},\n",
    "                    {\"name\": \"fam\", \"age\": 19, \"salary\": 200}]\n",
    "print(list_of_employees[2])\n",
    "print(list_of_employees[2][\"name\"])\n",
    "print(list_of_employees[0])\n",
    "print(list_of_employees[0][\"salary\"])\n",
    "#ใช้ {:num} จองพื้นที่อักขระให้กับชื่อ เเล้วทำการวนลูป ชื่อเเละเงินเดือน\n",
    "print(\"เเบบดั้งเดิม\")\n",
    "for em in list_of_employees:\n",
    "    print(em['name'], em['salary'])\n",
    "\n",
    "print(\"เเบบจองพื้นที่\")\n",
    "for em in list_of_employees:\n",
    "    print(\"{:7}{}\".format(em[\"name\"], em[\"salary\"]))"
   ]
  },
  {
   "cell_type": "markdown",
   "id": "4af16f52-3ade-402b-90c8-f55ce92bd548",
   "metadata": {},
   "source": [
    "### Module"
   ]
  },
  {
   "cell_type": "code",
   "execution_count": 60,
   "id": "a8c630e9-a2b2-4266-8946-8f9072592019",
   "metadata": {},
   "outputs": [
    {
     "name": "stdout",
     "output_type": "stream",
     "text": [
      "Mean of set_num = 259.4\n"
     ]
    }
   ],
   "source": [
    "#เพิ่มเติมนิดหน่อย ถ้าเขียนในIDEปกติ จะมีการเขียนเเยกหลายไฟล์ ให้ใช้ from (file) import (variable or function) เพื่อที่จะได้นำตัวเเปลมาใช้เลย\n",
    "#เช่น from math import sum ก็จะสามารถนำ sum มาใช้ได้เลย\n",
    "#เเต่ถ้าใช้อิมพอร์ตปกติมันจะต้องใช้ . ด้วย เช่น math.sum\n",
    "\n",
    "import numpy as np\n",
    "set_num = [232, 343, 343, 123, 256]\n",
    "print(\"Mean of set_num =\",np.mean(set_num))"
   ]
  },
  {
   "cell_type": "code",
   "execution_count": null,
   "id": "f9570f30-d486-4a5c-b276-724a8d5c04b6",
   "metadata": {},
   "outputs": [],
   "source": []
  }
 ],
 "metadata": {
  "kernelspec": {
   "display_name": "Python 3 (ipykernel)",
   "language": "python",
   "name": "python3"
  },
  "language_info": {
   "codemirror_mode": {
    "name": "ipython",
    "version": 3
   },
   "file_extension": ".py",
   "mimetype": "text/x-python",
   "name": "python",
   "nbconvert_exporter": "python",
   "pygments_lexer": "ipython3",
   "version": "3.9.12"
  }
 },
 "nbformat": 4,
 "nbformat_minor": 5
}

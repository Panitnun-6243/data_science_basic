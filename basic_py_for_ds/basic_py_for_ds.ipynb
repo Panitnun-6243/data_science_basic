{
 "cells": [
  {
   "cell_type": "markdown",
   "id": "ca7dd946-cb9c-4b95-9045-c72c40c1085d",
   "metadata": {
    "tags": []
   },
   "source": [
    "# Basic Python for data science"
   ]
  }
 ],
 "metadata": {
  "kernelspec": {
   "display_name": "Python 3 (ipykernel)",
   "language": "python",
   "name": "python3"
  },
  "language_info": {
   "codemirror_mode": {
    "name": "ipython",
    "version": 3
   },
   "file_extension": ".py",
   "mimetype": "text/x-python",
   "name": "python",
   "nbconvert_exporter": "python",
   "pygments_lexer": "ipython3",
   "version": "3.9.12"
  }
 },
 "nbformat": 4,
 "nbformat_minor": 5
}
